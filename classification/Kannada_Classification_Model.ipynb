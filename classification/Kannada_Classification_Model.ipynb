{
 "cells": [
  {
   "cell_type": "code",
   "execution_count": 1,
   "metadata": {},
   "outputs": [],
   "source": [
    "from fastai.text import *\n",
    "import numpy as np\n",
    "from sklearn.model_selection import train_test_split\n",
    "import pickle\n",
    "import sentencepiece as spm\n",
    "import re\n",
    "import pdb"
   ]
  },
  {
   "cell_type": "code",
   "execution_count": 2,
   "metadata": {},
   "outputs": [
    {
     "data": {
      "text/plain": [
       "('1.0.57', '1.1.0')"
      ]
     },
     "execution_count": 2,
     "metadata": {},
     "output_type": "execute_result"
    }
   ],
   "source": [
    "import fastai, torch\n",
    "fastai.__version__ , torch.__version__"
   ]
  },
  {
   "cell_type": "code",
   "execution_count": 3,
   "metadata": {},
   "outputs": [],
   "source": [
    "torch.cuda.set_device(0)"
   ]
  },
  {
   "cell_type": "code",
   "execution_count": 4,
   "metadata": {},
   "outputs": [
    {
     "name": "stdout",
     "output_type": "stream",
     "text": [
      "/home/gaurav/PycharmProjects/nlp-for-kannada/classification\r\n"
     ]
    }
   ],
   "source": [
    "!pwd"
   ]
  },
  {
   "cell_type": "code",
   "execution_count": 5,
   "metadata": {},
   "outputs": [],
   "source": [
    "path = Path('/home/gaurav/PycharmProjects/nlp-for-kannada/classification')"
   ]
  },
  {
   "cell_type": "code",
   "execution_count": 6,
   "metadata": {},
   "outputs": [
    {
     "data": {
      "text/html": [
       "<div>\n",
       "<style scoped>\n",
       "    .dataframe tbody tr th:only-of-type {\n",
       "        vertical-align: middle;\n",
       "    }\n",
       "\n",
       "    .dataframe tbody tr th {\n",
       "        vertical-align: top;\n",
       "    }\n",
       "\n",
       "    .dataframe thead th {\n",
       "        text-align: right;\n",
       "    }\n",
       "</style>\n",
       "<table border=\"1\" class=\"dataframe\">\n",
       "  <thead>\n",
       "    <tr style=\"text-align: right;\">\n",
       "      <th></th>\n",
       "      <th>headline</th>\n",
       "      <th>label</th>\n",
       "    </tr>\n",
       "  </thead>\n",
       "  <tbody>\n",
       "    <tr>\n",
       "      <td>0</td>\n",
       "      <td>CWG18; ಕುಸ್ತಿಯಲ್ಲಿ ಚಿನ್ನಗಳಿಸಿದ ರಾಹುಲ್ ಅವಾರೆ, ಸ...</td>\n",
       "      <td>sports</td>\n",
       "    </tr>\n",
       "    <tr>\n",
       "      <td>1</td>\n",
       "      <td>ಏಷ್ಯಾ ಕಪ್ 2018: ಪಾಕ್ ವಿರುದ್ಧ ಘರ್ಜಿಸಲು ರೋಹಿತ್ ಸ...</td>\n",
       "      <td>sports</td>\n",
       "    </tr>\n",
       "    <tr>\n",
       "      <td>2</td>\n",
       "      <td>ಸಮಂತಾ ವಿಷಯದಲ್ಲಿ 'ಯೂ ಟರ್ನ್'​ ಹೊಡೆದ ನಾಗ ಚೈತನ್ಯ..!</td>\n",
       "      <td>entertainment</td>\n",
       "    </tr>\n",
       "    <tr>\n",
       "      <td>3</td>\n",
       "      <td>PHOTOS: ಐಶ್ ಬೇಬಿ ಸೌಂದರ್ಯದ ಗುಟ್ಟು ರಟ್ಟು: 40 ದಾಟ...</td>\n",
       "      <td>entertainment</td>\n",
       "    </tr>\n",
       "    <tr>\n",
       "      <td>4</td>\n",
       "      <td>ಟೀಂ ಇಂಡಿಯಾ ಆಯ್ಕೆ ಸಮಿತಿ ಸದಸ್ಯರ ಸಂಭಾವನೆ ಎಷ್ಟು ಗೊ...</td>\n",
       "      <td>sports</td>\n",
       "    </tr>\n",
       "  </tbody>\n",
       "</table>\n",
       "</div>"
      ],
      "text/plain": [
       "                                            headline          label\n",
       "0  CWG18; ಕುಸ್ತಿಯಲ್ಲಿ ಚಿನ್ನಗಳಿಸಿದ ರಾಹುಲ್ ಅವಾರೆ, ಸ...         sports\n",
       "1  ಏಷ್ಯಾ ಕಪ್ 2018: ಪಾಕ್ ವಿರುದ್ಧ ಘರ್ಜಿಸಲು ರೋಹಿತ್ ಸ...         sports\n",
       "2    ಸಮಂತಾ ವಿಷಯದಲ್ಲಿ 'ಯೂ ಟರ್ನ್'​ ಹೊಡೆದ ನಾಗ ಚೈತನ್ಯ..!  entertainment\n",
       "3  PHOTOS: ಐಶ್ ಬೇಬಿ ಸೌಂದರ್ಯದ ಗುಟ್ಟು ರಟ್ಟು: 40 ದಾಟ...  entertainment\n",
       "4  ಟೀಂ ಇಂಡಿಯಾ ಆಯ್ಕೆ ಸಮಿತಿ ಸದಸ್ಯರ ಸಂಭಾವನೆ ಎಷ್ಟು ಗೊ...         sports"
      ]
     },
     "execution_count": 6,
     "metadata": {},
     "output_type": "execute_result"
    }
   ],
   "source": [
    "train_df = pd.read_csv(path/'train.csv')\n",
    "train_df.head()"
   ]
  },
  {
   "cell_type": "code",
   "execution_count": 7,
   "metadata": {},
   "outputs": [
    {
     "data": {
      "text/html": [
       "<div>\n",
       "<style scoped>\n",
       "    .dataframe tbody tr th:only-of-type {\n",
       "        vertical-align: middle;\n",
       "    }\n",
       "\n",
       "    .dataframe tbody tr th {\n",
       "        vertical-align: top;\n",
       "    }\n",
       "\n",
       "    .dataframe thead th {\n",
       "        text-align: right;\n",
       "    }\n",
       "</style>\n",
       "<table border=\"1\" class=\"dataframe\">\n",
       "  <thead>\n",
       "    <tr style=\"text-align: right;\">\n",
       "      <th></th>\n",
       "      <th>headline</th>\n",
       "      <th>label</th>\n",
       "    </tr>\n",
       "  </thead>\n",
       "  <tbody>\n",
       "    <tr>\n",
       "      <td>0</td>\n",
       "      <td>ಬಜಾರ್ ಅಂಗಳದಲ್ಲಿ ಸಿಕ್ಕ ಧನ್ವೀರ್​</td>\n",
       "      <td>entertainment</td>\n",
       "    </tr>\n",
       "    <tr>\n",
       "      <td>1</td>\n",
       "      <td>ಬಿಡುಗಡೆಯಾಯಿತು ಕಿಚ್ಚ ಸುದೀಪ್​ ಕಂಠದಾನ ಮಾಡಿರುವ ಸಿನ...</td>\n",
       "      <td>entertainment</td>\n",
       "    </tr>\n",
       "    <tr>\n",
       "      <td>2</td>\n",
       "      <td>ಸ್ಮಿತ್, ವಾರ್ನರ್​, ಬ್ಯಾಂಕ್ರಾಫ್ಟ್​ಗೆ ಶಿಕ್ಷೆ ಕಡಿತ...</td>\n",
       "      <td>sports</td>\n",
       "    </tr>\n",
       "    <tr>\n",
       "      <td>3</td>\n",
       "      <td>ಬೆಂಗಳೂರು ಅಂತರ ರಾಷ್ಟ್ರೀಯ ಚಲನಚಿತ್ರೋತ್ಸವದಲ್ಲಿ ಏಷ್...</td>\n",
       "      <td>entertainment</td>\n",
       "    </tr>\n",
       "    <tr>\n",
       "      <td>4</td>\n",
       "      <td>ಜಿಯೋ ಭರ್ಜರಿ ಗಿಫ್ಟ್​: ಇಂದಿನಿಂದಲೇ 5 ವರ್ಷಗಳ ಕಾಲ ಉ...</td>\n",
       "      <td>tech</td>\n",
       "    </tr>\n",
       "  </tbody>\n",
       "</table>\n",
       "</div>"
      ],
      "text/plain": [
       "                                            headline          label\n",
       "0                     ಬಜಾರ್ ಅಂಗಳದಲ್ಲಿ ಸಿಕ್ಕ ಧನ್ವೀರ್​  entertainment\n",
       "1  ಬಿಡುಗಡೆಯಾಯಿತು ಕಿಚ್ಚ ಸುದೀಪ್​ ಕಂಠದಾನ ಮಾಡಿರುವ ಸಿನ...  entertainment\n",
       "2  ಸ್ಮಿತ್, ವಾರ್ನರ್​, ಬ್ಯಾಂಕ್ರಾಫ್ಟ್​ಗೆ ಶಿಕ್ಷೆ ಕಡಿತ...         sports\n",
       "3  ಬೆಂಗಳೂರು ಅಂತರ ರಾಷ್ಟ್ರೀಯ ಚಲನಚಿತ್ರೋತ್ಸವದಲ್ಲಿ ಏಷ್...  entertainment\n",
       "4  ಜಿಯೋ ಭರ್ಜರಿ ಗಿಫ್ಟ್​: ಇಂದಿನಿಂದಲೇ 5 ವರ್ಷಗಳ ಕಾಲ ಉ...           tech"
      ]
     },
     "execution_count": 7,
     "metadata": {},
     "output_type": "execute_result"
    }
   ],
   "source": [
    "valid_df = pd.read_csv(path/'valid.csv')\n",
    "valid_df.head()"
   ]
  },
  {
   "cell_type": "code",
   "execution_count": 8,
   "metadata": {},
   "outputs": [
    {
     "name": "stdout",
     "output_type": "stream",
     "text": [
      "In Training data:\n",
      "sports 1856\n",
      "entertainment 2710\n",
      "tech 601\n"
     ]
    }
   ],
   "source": [
    "print('In Training data:')\n",
    "for cls in train_df['label'].unique():\n",
    "    print(cls, (train_df['label'] == cls).sum())"
   ]
  },
  {
   "cell_type": "code",
   "execution_count": 9,
   "metadata": {},
   "outputs": [
    {
     "name": "stdout",
     "output_type": "stream",
     "text": [
      "In Validation data:\n",
      "entertainment 661\n",
      "sports 470\n",
      "tech 162\n"
     ]
    }
   ],
   "source": [
    "print('In Validation data:')\n",
    "for cls in valid_df['label'].unique():\n",
    "    print(cls, (valid_df['label'] == cls).sum())"
   ]
  },
  {
   "cell_type": "code",
   "execution_count": 10,
   "metadata": {},
   "outputs": [
    {
     "data": {
      "text/plain": [
       "'CWG18; ಕುಸ್ತಿಯಲ್ಲಿ ಚಿನ್ನಗಳಿಸಿದ ರಾಹುಲ್ ಅವಾರೆ, ಸುಶೀಲ್ ಕುಮಾರ್ \\u200b'"
      ]
     },
     "execution_count": 10,
     "metadata": {},
     "output_type": "execute_result"
    }
   ],
   "source": [
    "train_df['headline'][0]"
   ]
  },
  {
   "cell_type": "code",
   "execution_count": 11,
   "metadata": {},
   "outputs": [
    {
     "data": {
      "text/plain": [
       "((5167, 2), (1293, 2))"
      ]
     },
     "execution_count": 11,
     "metadata": {},
     "output_type": "execute_result"
    }
   ],
   "source": [
    "train_df.shape, valid_df.shape"
   ]
  },
  {
   "cell_type": "code",
   "execution_count": 12,
   "metadata": {},
   "outputs": [
    {
     "data": {
      "text/plain": [
       "((0, 2), (0, 2))"
      ]
     },
     "execution_count": 12,
     "metadata": {},
     "output_type": "execute_result"
    }
   ],
   "source": [
    "train_df[train_df['headline'].isnull()].shape, valid_df[valid_df['headline'].isnull()].shape"
   ]
  },
  {
   "cell_type": "code",
   "execution_count": 13,
   "metadata": {},
   "outputs": [],
   "source": [
    "label_cols = list(range(1,train_df.shape[1]))"
   ]
  },
  {
   "cell_type": "code",
   "execution_count": 14,
   "metadata": {},
   "outputs": [
    {
     "name": "stdout",
     "output_type": "stream",
     "text": [
      "[1]\n"
     ]
    }
   ],
   "source": [
    "print(label_cols)"
   ]
  },
  {
   "cell_type": "code",
   "execution_count": 17,
   "metadata": {},
   "outputs": [],
   "source": [
    "id_to_col = list(train_df.columns)"
   ]
  },
  {
   "cell_type": "code",
   "execution_count": 18,
   "metadata": {},
   "outputs": [],
   "source": [
    "col_to_id = {}\n",
    "for i, col in enumerate(id_to_col):\n",
    "    col_to_id[col] = i"
   ]
  },
  {
   "cell_type": "code",
   "execution_count": 19,
   "metadata": {},
   "outputs": [],
   "source": [
    "class KannadaTokenizer(BaseTokenizer):\n",
    "    def __init__(self, lang:str):\n",
    "        self.lang = lang\n",
    "        self.sp = spm.SentencePieceProcessor()\n",
    "        self.sp.Load(str(path/\"../tokenizer/kannada_lm.model\"))\n",
    "        \n",
    "    def tokenizer(self, t:str) -> List[str]:\n",
    "        return self.sp.EncodeAsPieces(t)"
   ]
  },
  {
   "cell_type": "code",
   "execution_count": 20,
   "metadata": {},
   "outputs": [],
   "source": [
    "sp = spm.SentencePieceProcessor()\n",
    "sp.Load(str(path/\"../tokenizer/kannada_lm.model\"))\n",
    "itos = [sp.IdToPiece(int(i)) for i in range(25000)]"
   ]
  },
  {
   "cell_type": "code",
   "execution_count": 21,
   "metadata": {},
   "outputs": [
    {
     "data": {
      "text/plain": [
       "['<unk>', '<s>', '</s>', '.', ',', '▁', '▁ಮತ್ತು', 'ದ', '▁ಈ', 'ಗಳು']"
      ]
     },
     "execution_count": 21,
     "metadata": {},
     "output_type": "execute_result"
    }
   ],
   "source": [
    "itos[:10]"
   ]
  },
  {
   "cell_type": "code",
   "execution_count": 22,
   "metadata": {},
   "outputs": [],
   "source": [
    "# 25,000 is the vocab size that we chose in sentencepiece\n",
    "kannada_vocab = Vocab(itos)"
   ]
  },
  {
   "cell_type": "code",
   "execution_count": 23,
   "metadata": {},
   "outputs": [],
   "source": [
    "tokenizer = Tokenizer(tok_func=KannadaTokenizer, lang='kn')"
   ]
  },
  {
   "cell_type": "code",
   "execution_count": 24,
   "metadata": {},
   "outputs": [
    {
     "data": {
      "text/plain": [
       "['xxunk',\n",
       " 'xxpad',\n",
       " 'xxbos',\n",
       " 'xxeos',\n",
       " 'xxfld',\n",
       " 'xxmaj',\n",
       " 'xxup',\n",
       " 'xxrep',\n",
       " 'xxwrep']"
      ]
     },
     "execution_count": 24,
     "metadata": {},
     "output_type": "execute_result"
    }
   ],
   "source": [
    "tokenizer.special_cases"
   ]
  },
  {
   "cell_type": "code",
   "execution_count": 26,
   "metadata": {},
   "outputs": [],
   "source": [
    "data_lm = TextLMDataBunch.from_df(path=path, train_df=train_df, valid_df=valid_df, text_cols=[0], label_cols=label_cols, tokenizer=tokenizer, vocab=kannada_vocab, bs=16)"
   ]
  },
  {
   "cell_type": "code",
   "execution_count": 27,
   "metadata": {},
   "outputs": [],
   "source": [
    "data_lm.save()"
   ]
  },
  {
   "cell_type": "code",
   "execution_count": 28,
   "metadata": {},
   "outputs": [
    {
     "data": {
      "text/html": [
       "<table border=\"1\" class=\"dataframe\">\n",
       "  <thead>\n",
       "    <tr style=\"text-align: right;\">\n",
       "      <th>idx</th>\n",
       "      <th>text</th>\n",
       "    </tr>\n",
       "  </thead>\n",
       "  <tbody>\n",
       "    <tr>\n",
       "      <td>0</td>\n",
       "      <td>&lt;unk&gt; to s : ▁ಐ ಶ್ ▁ಬೇಬಿ ▁ಸೌಂದರ್ಯ ದ ▁ಗು ಟ್ಟು ▁ರ ಟ್ಟು : ▁40 ▁ದಾಟಿದ ರೂ ▁ಹಾಟ್ ▁ಲುಕ್ ಕ ಿಗೇ ನು ▁ಕಡಿಮೆ ▁ಇಲ್ಲ ▁x x b os ▁ಟೀ ಂ ▁ಇಂಡಿಯಾ ▁ಆಯ್ಕೆ ▁ಸಮಿತಿ ▁ಸದಸ್ಯರ ▁ಸಂಭಾವನೆ ▁ಎಷ್ಟು ▁ಗೊತ್ತ ಾ . . ? ▁x x b os ▁ದಕ್ಷಿಣ ▁ಆಪ್ ರಿಕಾ ದಲ್ಲಿ ▁ಪ್ರಣಯ ▁ಪಕ್ಷಿ ಗಳಾಗಿ ▁ವಿ ರು ಷ್ ಕಾ ▁ ದಂಪತಿ ▁x x b os ▁ಕಾವೇರಿ ದ್ದ ▁' ಕಾಲ ಾ ' ▁ವಿರುದ್ಧದ ▁ಹೋರಾಟ</td>\n",
       "    </tr>\n",
       "    <tr>\n",
       "      <td>1</td>\n",
       "      <td>x b os ▁ಜನವರಿ ಗೆ ▁ಸೆಟ್ ಟೇ ರ ಲಿದೆ ▁ಡಿ ▁ಬಾಸ್ ▁ದರ್ಶನ ್ ▁ರ ▁' ಮದ ಕರಿ ' ▁ಸಿನಿಮಾ . . ! ▁x x b os &lt;unk&gt; ▁a &lt;unk&gt; &lt;unk&gt; ▁as ian &lt;unk&gt; ▁c up ▁- ▁ಭಾರತಕ್ಕೆ ▁ಕೈ ತಪ್ಪ ಿದ ▁ಇತಿಹಾಸ ; ▁ಕೈಗೆ ▁ಬಂದ ▁ತು ತ್ತು ▁ಬಾಯಿ ಗೆ ▁ಬರಲಿಲ್ಲ ▁x x b os ▁ರಿ ಷ ಭ್ ▁ಪಂತ ್ ▁ಮತ್ತೊಬ್ಬ ▁ಗಿಲ್ ▁ಕ್ರಿಸ್ಟ್ ▁: ▁ಲೆ ಜೆ ಂಡ್ ▁ಆಟಗಾರ ನಿಂದ ▁ಪ್ರಶಂಸೆ ▁x x</td>\n",
       "    </tr>\n",
       "    <tr>\n",
       "      <td>2</td>\n",
       "      <td>ಖಿ ▁ಸಾವ ಂತ್ ▁ಮಾಡಿದ್ದ ೇ ನು ▁ಗೋ ತ್ತಾ ? ▁x x b os ▁ಆ್ಯ ಪಲ್ ▁ಏರ್ ▁ಪೋ ಡ್ ▁ಗೆ ▁ಪ್ರಬಲ ▁ಪೈಪೋಟಿ : ▁ಅಗ್ಗದ ▁ಬೆಲೆಗೆ ▁ಮೀ ▁ಏರ್ ▁ಡಾ ಟ್ಸ್ ▁ಬಿಡುಗಡೆ ▁x x b os ▁ಟೀ ಸರ್ ▁ಬಿಡುಗಡೆ : ▁ರ ಫ್ ▁ಅಂಡ್ ▁ಟ ಫ್ ▁ಪಾತ್ರದಲ್ಲಿ ▁' ಪಾರ್ ವ ತಮ್ಮ ' ನ ▁ಮಗಳು ▁x x b os ▁ನಾನು ▁ಅಕ್ರಮ ▁ಸಂಬಂಧ ▁ಹೊಂದಿದ್ದರೆ ▁ಅದನ್ನು ▁ಸಾಬೀತು ▁ಮಾಡ ಲಿ ; ▁ಕಿರುತೆರೆ ▁ನಟ ▁ರಾಜೇಶ್ ▁ಗೆ ▁ಹೆಂಡತಿ ▁ಸವಾಲು ▁x</td>\n",
       "    </tr>\n",
       "    <tr>\n",
       "      <td>3</td>\n",
       "      <td>os ▁ಕೊ ಹ್ ಲಿ ▁v s ▁ರೋಹಿತ ್ ▁: ▁ಟೀ ಂ ▁ಇಂಡಿಯಾ ▁ಆಟಗಾರರ ▁ನಡುವೆ ▁ವೈ ಮನ ಸ್ಸು ? ▁x x b os ▁ಕಾ ವೇ ರ ುತ್ತಿರುವ ▁' ಕಾಲ ಾ ' ▁ಸಿನಿಮಾ ▁ಬಿಡುಗಡೆ ▁ವಿವಾದ ▁x x b os ▁ ದೀಪ್ ▁- ವೀರ್ ▁ಆರ ತ ಕ್ಷ ತೆಗೆ ▁ಕಳೆ ಗಟ್ಟಿ ದ ▁ಪ್ರಕಾಶ್ ▁ಪಡುಕೋಣೆ ▁ನಿವಾಸ ▁x x b os ▁ಅಮೆಜಾನ್ ▁' ಚಿ ಲ್ಲ ರೆ ' ▁ಪ್ಲಾ ನ್ : ▁ಬಿಗ್ ▁ಬಜಾರ್ ▁ಖರೀದಿಸ ಲ ಿದ್ದ ಾ</td>\n",
       "    </tr>\n",
       "    <tr>\n",
       "      <td>4</td>\n",
       "      <td>ರ ೀಷ . . ! ▁x x b os ▁ಮೇ ಕ ಪ್ ▁ಇಲ್ಲದ ▁ಫೋಟೋ ಗಳನ್ನು ▁ಪೋಸ್ಟ್ ▁ಮಾಡಿದ ▁ನಟಿ ▁ಪೂಜಾ ▁ಹೆಗ್ಡೆ ▁x x b os ▁ಯು . ಎಫ್ . ಓ ▁ಹಾಗೂ ▁ಕ್ಯೂಬ ್ ▁ವಿವಾದ ▁ಏನು ▁ಗೋ ತ್ತಾ ? ▁ನಾಳ ೆಯಿಂದ ▁ಸಿನಿಮಾ ▁ಪ್ರದರ್ಶನ ▁ಇರ ುತ್ತಾ ▁ಅಥವಾ ▁ಇಲ್ಲ ವಾ ? ▁x x b os ▁ಫಿ ಫಾ ▁ವಿಶ್ವಕಪ್ ▁2018 : ▁ರೋಚಕ ▁ಪಂದ್ಯದಲ್ಲಿ ▁ನೈಜ ಿ ರಿಯಾ ▁ವಿರುದ್ಧ ▁ಅರ್ಜೆಂಟೀನಾ ಕ್ಕೆ ▁ಜಯ : ▁ನಾ ಕೌ ಟ್ ▁ಗೆ</td>\n",
       "    </tr>\n",
       "  </tbody>\n",
       "</table>"
      ],
      "text/plain": [
       "<IPython.core.display.HTML object>"
      ]
     },
     "metadata": {},
     "output_type": "display_data"
    }
   ],
   "source": [
    "data_lm.show_batch()"
   ]
  },
  {
   "cell_type": "code",
   "execution_count": 29,
   "metadata": {},
   "outputs": [],
   "source": [
    "awd_lstm_config = awd_lstm_lm_config.copy()\n",
    "awd_lstm_config['n_hid'] = 1150\n",
    "learn = language_model_learner(data_lm, arch=AWD_LSTM, drop_mult=0.3, config=awd_lstm_config, pretrained=False)"
   ]
  },
  {
   "cell_type": "code",
   "execution_count": 30,
   "metadata": {
    "scrolled": true
   },
   "outputs": [
    {
     "data": {
      "text/plain": [
       "LanguageLearner(data=TextLMDataBunch;\n",
       "\n",
       "Train: LabelList (5167 items)\n",
       "x: LMTextList\n",
       "▁x x b os <unk> ▁c w g 18 ; ▁ಕುಸ್ತಿ ಯಲ್ಲಿ ▁ಚಿನ್ನ ಗಳ ಿಸಿದ ▁ರಾಹುಲ್ ▁ಅವ ಾರೆ , ▁ಸುಶೀಲ ್ ▁ಕುಮಾರ್,▁x x b os ▁ಏಷ್ಯಾ ▁ಕಪ್ ▁2018 : ▁ಪಾ ಕ್ ▁ವಿರುದ್ಧ ▁ಘ ರ್ಜಿ ಸಲು ▁ರೋಹಿತ ್ ▁ಸೈನ್ಯ ▁ಹೇಗ ಿದೆ . . ?,▁x x b os ▁ಸಮ ಂತಾ ▁ವಿಷಯದಲ್ಲಿ ▁' ಯೂ ▁ಟರ್ ನ್ ' ▁ಹೊಡೆದ ▁ನಾಗ ▁ಚೈತನ್ಯ . . !,▁x x b os <unk> ▁p h o <unk> to s : ▁ಐ ಶ್ ▁ಬೇಬಿ ▁ಸೌಂದರ್ಯ ದ ▁ಗು ಟ್ಟು ▁ರ ಟ್ಟು : ▁40 ▁ದಾಟಿದ ರೂ ▁ಹಾಟ್ ▁ಲುಕ್ ಕ ಿಗೇ ನು ▁ಕಡಿಮೆ ▁ಇಲ್ಲ,▁x x b os ▁ಟೀ ಂ ▁ಇಂಡಿಯಾ ▁ಆಯ್ಕೆ ▁ಸಮಿತಿ ▁ಸದಸ್ಯರ ▁ಸಂಭಾವನೆ ▁ಎಷ್ಟು ▁ಗೊತ್ತ ಾ . . ?\n",
       "y: LMLabelList\n",
       ",,,,\n",
       "Path: /home/gaurav/PycharmProjects/nlp-for-kannada/classification;\n",
       "\n",
       "Valid: LabelList (1293 items)\n",
       "x: LMTextList\n",
       "▁x x b os ▁ಬಜಾರ್ ▁ಅಂಗಳ ದಲ್ಲಿ ▁ಸಿಕ್ಕ ▁ಧನ ್ ವೀರ್,▁x x b os ▁ಬಿಡುಗಡೆಯಾಯಿತು ▁ಕಿ ಚ್ಚ ▁ಸು ದೀಪ್ ▁ಕಂಠ ದಾನ ▁ಮಾಡಿರುವ ▁ಸಿನಿಮಾ ದ ▁ಟ್ರೇ ಲರ್ ▁ . . !,▁x x b os ▁ಸ್ಮಿತ್ , ▁ವಾರ್ನರ್ ▁ , ▁ಬ್ಯಾಂಕ್ ರಾ ಫ್ಟ್ ▁ಗೆ ▁ಶಿಕ್ಷೆ ▁ಕಡಿತ ವಿಲ್ಲ ▁ಎಂದ ▁ಬೋರ್ಡ್,▁x x b os ▁ಬೆಂಗಳೂರು ▁ಅಂತರ ▁ರಾಷ್ಟ್ರೀಯ ▁ಚಲನಚಿತ್ರೋತ್ಸವ ದಲ್ಲಿ ▁ಏಷ್ಯನ್ ▁ಸಿನಿಮಾ ಗಳ ▁ಸ್ಪರ್ಧೆಯಲ್ಲಿ ರುವ ▁ಸಿನಿಮಾ ಗಳ ▁ವಿವರ,▁x x b os ▁ಜಿಯೋ ▁ಭರ್ಜರಿ ▁ಗಿ ಫ್ಟ್ ▁: ▁ಇಂದಿನ ಿಂದಲೇ ▁5 ▁ವರ್ಷಗಳ ▁ಕಾಲ ▁ಉಚಿತವಾಗಿ ▁ಕ್ರಿಕೆಟ್ ▁ವೀಕ್ಷಿಸ ಿ\n",
       "y: LMLabelList\n",
       ",,,,\n",
       "Path: /home/gaurav/PycharmProjects/nlp-for-kannada/classification;\n",
       "\n",
       "Test: None, model=SequentialRNN(\n",
       "  (0): AWD_LSTM(\n",
       "    (encoder): Embedding(25000, 400, padding_idx=1)\n",
       "    (encoder_dp): EmbeddingDropout(\n",
       "      (emb): Embedding(25000, 400, padding_idx=1)\n",
       "    )\n",
       "    (rnns): ModuleList(\n",
       "      (0): WeightDropout(\n",
       "        (module): LSTM(400, 1150, batch_first=True)\n",
       "      )\n",
       "      (1): WeightDropout(\n",
       "        (module): LSTM(1150, 1150, batch_first=True)\n",
       "      )\n",
       "      (2): WeightDropout(\n",
       "        (module): LSTM(1150, 400, batch_first=True)\n",
       "      )\n",
       "    )\n",
       "    (input_dp): RNNDropout()\n",
       "    (hidden_dps): ModuleList(\n",
       "      (0): RNNDropout()\n",
       "      (1): RNNDropout()\n",
       "      (2): RNNDropout()\n",
       "    )\n",
       "  )\n",
       "  (1): LinearDecoder(\n",
       "    (decoder): Linear(in_features=400, out_features=25000, bias=True)\n",
       "    (output_dp): RNNDropout()\n",
       "  )\n",
       "), opt_func=functools.partial(<class 'torch.optim.adam.Adam'>, betas=(0.9, 0.99)), loss_func=FlattenedLoss of CrossEntropyLoss(), metrics=[<function accuracy at 0x7f12e38874d0>], true_wd=True, bn_wd=True, wd=0.01, train_bn=True, path=PosixPath('/home/gaurav/PycharmProjects/nlp-for-kannada/classification'), model_dir='models', callback_fns=[functools.partial(<class 'fastai.basic_train.Recorder'>, add_time=True, silent=False)], callbacks=[RNNTrainer\n",
       "learn: ...\n",
       "alpha: 2.0\n",
       "beta: 1.0], layer_groups=[Sequential(\n",
       "  (0): WeightDropout(\n",
       "    (module): LSTM(400, 1150, batch_first=True)\n",
       "  )\n",
       "  (1): RNNDropout()\n",
       "), Sequential(\n",
       "  (0): WeightDropout(\n",
       "    (module): LSTM(1150, 1150, batch_first=True)\n",
       "  )\n",
       "  (1): RNNDropout()\n",
       "), Sequential(\n",
       "  (0): WeightDropout(\n",
       "    (module): LSTM(1150, 400, batch_first=True)\n",
       "  )\n",
       "  (1): RNNDropout()\n",
       "), Sequential(\n",
       "  (0): Embedding(25000, 400, padding_idx=1)\n",
       "  (1): EmbeddingDropout(\n",
       "    (emb): Embedding(25000, 400, padding_idx=1)\n",
       "  )\n",
       "  (2): LinearDecoder(\n",
       "    (decoder): Linear(in_features=400, out_features=25000, bias=True)\n",
       "    (output_dp): RNNDropout()\n",
       "  )\n",
       ")], add_time=True, silent=False, cb_fns_registered=False)"
      ]
     },
     "execution_count": 30,
     "metadata": {},
     "output_type": "execute_result"
    }
   ],
   "source": [
    "# Loading the pretrained language model on kannada wikipedia\n",
    "learn.load('/home/gaurav/PycharmProjects/nlp-for-kannada/language-model/KannadaDataset/models/third_kn_lm', with_opt=True)"
   ]
  },
  {
   "cell_type": "code",
   "execution_count": 31,
   "metadata": {},
   "outputs": [],
   "source": [
    "# Fine tuning the prtrained LM on current dataset"
   ]
  },
  {
   "cell_type": "code",
   "execution_count": 32,
   "metadata": {},
   "outputs": [
    {
     "data": {
      "text/html": [],
      "text/plain": [
       "<IPython.core.display.HTML object>"
      ]
     },
     "metadata": {},
     "output_type": "display_data"
    },
    {
     "name": "stdout",
     "output_type": "stream",
     "text": [
      "LR Finder is complete, type {learner_name}.recorder.plot() to see the graph.\n"
     ]
    }
   ],
   "source": [
    "learn.lr_find()"
   ]
  },
  {
   "cell_type": "code",
   "execution_count": 33,
   "metadata": {},
   "outputs": [
    {
     "data": {
      "image/png": "[encoded data removed]",
      "text/plain": [
       "<Figure size 432x288 with 1 Axes>"
      ]
     },
     "metadata": {
      "needs_background": "light"
     },
     "output_type": "display_data"
    }
   ],
   "source": [
    "learn.recorder.plot()"
   ]
  },
  {
   "cell_type": "code",
   "execution_count": 34,
   "metadata": {},
   "outputs": [],
   "source": [
    "learn.freeze()"
   ]
  },
  {
   "cell_type": "code",
   "execution_count": 35,
   "metadata": {},
   "outputs": [
    {
     "data": {
      "text/html": [
       "<table border=\"1\" class=\"dataframe\">\n",
       "  <thead>\n",
       "    <tr style=\"text-align: left;\">\n",
       "      <th>epoch</th>\n",
       "      <th>train_loss</th>\n",
       "      <th>valid_loss</th>\n",
       "      <th>accuracy</th>\n",
       "      <th>time</th>\n",
       "    </tr>\n",
       "  </thead>\n",
       "  <tbody>\n",
       "    <tr>\n",
       "      <td>0</td>\n",
       "      <td>4.576837</td>\n",
       "      <td>4.169918</td>\n",
       "      <td>0.375186</td>\n",
       "      <td>00:08</td>\n",
       "    </tr>\n",
       "  </tbody>\n",
       "</table>"
      ],
      "text/plain": [
       "<IPython.core.display.HTML object>"
      ]
     },
     "metadata": {},
     "output_type": "display_data"
    }
   ],
   "source": [
    "learn.fit_one_cycle(1, 1e-2)"
   ]
  },
  {
   "cell_type": "code",
   "execution_count": 51,
   "metadata": {},
   "outputs": [],
   "source": [
    "learn.unfreeze()"
   ]
  },
  {
   "cell_type": "code",
   "execution_count": 36,
   "metadata": {},
   "outputs": [
    {
     "data": {
      "text/html": [
       "<table border=\"1\" class=\"dataframe\">\n",
       "  <thead>\n",
       "    <tr style=\"text-align: left;\">\n",
       "      <th>epoch</th>\n",
       "      <th>train_loss</th>\n",
       "      <th>valid_loss</th>\n",
       "      <th>accuracy</th>\n",
       "      <th>time</th>\n",
       "    </tr>\n",
       "  </thead>\n",
       "  <tbody>\n",
       "    <tr>\n",
       "      <td>0</td>\n",
       "      <td>3.938181</td>\n",
       "      <td>4.110249</td>\n",
       "      <td>0.384003</td>\n",
       "      <td>00:08</td>\n",
       "    </tr>\n",
       "    <tr>\n",
       "      <td>1</td>\n",
       "      <td>3.838890</td>\n",
       "      <td>4.084957</td>\n",
       "      <td>0.388095</td>\n",
       "      <td>00:08</td>\n",
       "    </tr>\n",
       "  </tbody>\n",
       "</table>"
      ],
      "text/plain": [
       "<IPython.core.display.HTML object>"
      ]
     },
     "metadata": {},
     "output_type": "display_data"
    }
   ],
   "source": [
    "learn.fit_one_cycle(2, 1e-3)"
   ]
  },
  {
   "cell_type": "code",
   "execution_count": 37,
   "metadata": {},
   "outputs": [
    {
     "data": {
      "text/plain": [
       "'ರಾಮ್ ▁ಗೆ ರಾಧ ▁ಸರಣಿ : ▁ಹೊಸ ? ? ▁x x b'"
      ]
     },
     "execution_count": 37,
     "metadata": {},
     "output_type": "execute_result"
    }
   ],
   "source": [
    "learn.predict('ರಾಮ್',n_words=10)"
   ]
  },
  {
   "cell_type": "code",
   "execution_count": 38,
   "metadata": {},
   "outputs": [],
   "source": [
    "learn.save_encoder('fine_tuned_enc')"
   ]
  },
  {
   "cell_type": "code",
   "execution_count": 39,
   "metadata": {},
   "outputs": [],
   "source": [
    "data_clas = TextClasDataBunch.from_df(path=path, train_df=train_df, valid_df=valid_df, tokenizer=tokenizer, vocab=kannada_vocab, text_cols=[0], label_cols=label_cols, bs=16)"
   ]
  },
  {
   "cell_type": "code",
   "execution_count": 40,
   "metadata": {},
   "outputs": [
    {
     "data": {
      "text/html": [
       "<table border=\"1\" class=\"dataframe\">\n",
       "  <thead>\n",
       "    <tr style=\"text-align: right;\">\n",
       "      <th>text</th>\n",
       "      <th>target</th>\n",
       "    </tr>\n",
       "  </thead>\n",
       "  <tbody>\n",
       "    <tr>\n",
       "      <td>▁x x b os ▁ y a &lt;unk&gt; am ana &lt;unk&gt; vi e ▁bo x &lt;unk&gt; &lt;unk&gt; ff ice &lt;unk&gt; ▁c oll ection s : ▁ಬಾ ಕ್ಸಾ ಫಿ ಸ್ ▁ನಲ್ಲಿ ▁ಧೂಳ ೆ ಬ್ಬ ಿಸುತ್ತಿರುವ ▁ಡಿ - ಬಾ ಸ್ ▁: ▁ಮೂರು ▁ದಿನಗಳಲ್ಲಿ ▁' ಯ ಜ ಮಾನ ' ನ ▁ಗಳಿಕೆ ▁ಎಷ್ಟು ▁ಗೊತ್ತ ಾ . . ?</td>\n",
       "      <td>entertainment</td>\n",
       "    </tr>\n",
       "    <tr>\n",
       "      <td>▁x x b os &lt;unk&gt; &lt;unk&gt; d g har s ha ▁tr ai ler : ▁ ಸಸ್ ಪೆನ್ ಸ್ ▁ಮಾಸ್ಟರ್ ▁ಸು ನೀ ಲ್ ▁ಕುಮಾರ್ ▁ದೇಸಾಯಿ ▁ಇಸ್ ▁ಬ್ಯಾಕ್ ▁: ▁' ಉದ್ ಘರ್ ಷ ' ▁ಟ್ರೈ ಲರ್ ▁ನಲ್ಲಿ ▁ಕಿ ಚ್ಚ ▁ಸು ದೀಪ್ ▁ಇಂಗ್ಲಿಷ್ ▁ಹೇಗ ಿದೆ ▁ಗೊತ್ತ ಾ . . ?</td>\n",
       "      <td>entertainment</td>\n",
       "    </tr>\n",
       "    <tr>\n",
       "      <td>▁x x b os &lt;unk&gt; &lt;unk&gt; l ▁v s &lt;unk&gt; ▁l ok &lt;unk&gt; ▁s ab ha ▁ elect ions : ▁ಐಪಿಎಲ್ - ಲೋಕ ಸಭೆ ▁ಅಂತಿಮ ▁ಹಣ ಾಹ ಣಿ ▁ಕ್ಲ ್ಯಾ ಶ್ ▁! ; ▁ಬಿಸಿ ಸಿ ಐ ▁ನಿರ್ಧಾರ ವೇ ನು ▁ಗೊತ್ತ ಾ ?</td>\n",
       "      <td>sports</td>\n",
       "    </tr>\n",
       "    <tr>\n",
       "      <td>▁x x b os &lt;unk&gt; ▁p ul w ama &lt;unk&gt; ▁a ttack : ▁ಯೂಟ್ಯೂಬ್ ▁ಚಾನಲ್ ▁ನಿಂದ ▁ಆ ತಿ ಫ್ ▁ಅಸ್ ಲಂ - ರಾ ಹ ತ್ ▁ಫತೇ ▁ಅಲಿ ಖಾನ್ ▁ರ ▁ಹಾಡುಗಳನ್ನು ತೆಗೆ ದು ▁ಹಾಕಿದ ▁ಟಿ - ಸೀ ರೀಸ್ ▁ . . !</td>\n",
       "      <td>entertainment</td>\n",
       "    </tr>\n",
       "    <tr>\n",
       "      <td>▁x x b os &lt;unk&gt; ▁v s ▁new ▁ &lt;unk&gt; ea land , &lt;unk&gt; ▁l ive &lt;unk&gt; ▁c r ick et &lt;unk&gt; ▁s c ore : ▁ಕಿ ವೀ ಸ್ ▁ನಾಡ ಲ್ಲಿ ▁ಭಾರತ ▁ಶುಭ ಾರಂಭ : ▁8 ▁ವಿಕೆಟ್ ▁ಗಳ ▁ಭರ್ಜರಿ ▁ಜಯ</td>\n",
       "      <td>sports</td>\n",
       "    </tr>\n",
       "  </tbody>\n",
       "</table>"
      ],
      "text/plain": [
       "<IPython.core.display.HTML object>"
      ]
     },
     "metadata": {},
     "output_type": "display_data"
    }
   ],
   "source": [
    "data_clas.show_batch()"
   ]
  },
  {
   "cell_type": "code",
   "execution_count": 41,
   "metadata": {},
   "outputs": [],
   "source": [
    "del awd_lstm_config['tie_weights']\n",
    "del awd_lstm_config['out_bias']"
   ]
  },
  {
   "cell_type": "code",
   "execution_count": 42,
   "metadata": {},
   "outputs": [],
   "source": [
    "learn = text_classifier_learner(data_clas, arch=AWD_LSTM, drop_mult=0.5, config=awd_lstm_config)"
   ]
  },
  {
   "cell_type": "code",
   "execution_count": 43,
   "metadata": {
    "scrolled": true
   },
   "outputs": [
    {
     "data": {
      "text/plain": [
       "RNNLearner(data=TextClasDataBunch;\n",
       "\n",
       "Train: LabelList (5167 items)\n",
       "x: TextList\n",
       "▁x x b os <unk> ▁c w g 18 ; ▁ಕುಸ್ತಿ ಯಲ್ಲಿ ▁ಚಿನ್ನ ಗಳ ಿಸಿದ ▁ರಾಹುಲ್ ▁ಅವ ಾರೆ , ▁ಸುಶೀಲ ್ ▁ಕುಮಾರ್,▁x x b os ▁ಏಷ್ಯಾ ▁ಕಪ್ ▁2018 : ▁ಪಾ ಕ್ ▁ವಿರುದ್ಧ ▁ಘ ರ್ಜಿ ಸಲು ▁ರೋಹಿತ ್ ▁ಸೈನ್ಯ ▁ಹೇಗ ಿದೆ . . ?,▁x x b os ▁ಸಮ ಂತಾ ▁ವಿಷಯದಲ್ಲಿ ▁' ಯೂ ▁ಟರ್ ನ್ ' ▁ಹೊಡೆದ ▁ನಾಗ ▁ಚೈತನ್ಯ . . !,▁x x b os <unk> ▁p h o <unk> to s : ▁ಐ ಶ್ ▁ಬೇಬಿ ▁ಸೌಂದರ್ಯ ದ ▁ಗು ಟ್ಟು ▁ರ ಟ್ಟು : ▁40 ▁ದಾಟಿದ ರೂ ▁ಹಾಟ್ ▁ಲುಕ್ ಕ ಿಗೇ ನು ▁ಕಡಿಮೆ ▁ಇಲ್ಲ,▁x x b os ▁ಟೀ ಂ ▁ಇಂಡಿಯಾ ▁ಆಯ್ಕೆ ▁ಸಮಿತಿ ▁ಸದಸ್ಯರ ▁ಸಂಭಾವನೆ ▁ಎಷ್ಟು ▁ಗೊತ್ತ ಾ . . ?\n",
       "y: CategoryList\n",
       "sports,sports,entertainment,entertainment,sports\n",
       "Path: /home/gaurav/PycharmProjects/nlp-for-kannada/classification;\n",
       "\n",
       "Valid: LabelList (1293 items)\n",
       "x: TextList\n",
       "▁x x b os ▁ಬಜಾರ್ ▁ಅಂಗಳ ದಲ್ಲಿ ▁ಸಿಕ್ಕ ▁ಧನ ್ ವೀರ್,▁x x b os ▁ಬಿಡುಗಡೆಯಾಯಿತು ▁ಕಿ ಚ್ಚ ▁ಸು ದೀಪ್ ▁ಕಂಠ ದಾನ ▁ಮಾಡಿರುವ ▁ಸಿನಿಮಾ ದ ▁ಟ್ರೇ ಲರ್ ▁ . . !,▁x x b os ▁ಸ್ಮಿತ್ , ▁ವಾರ್ನರ್ ▁ , ▁ಬ್ಯಾಂಕ್ ರಾ ಫ್ಟ್ ▁ಗೆ ▁ಶಿಕ್ಷೆ ▁ಕಡಿತ ವಿಲ್ಲ ▁ಎಂದ ▁ಬೋರ್ಡ್,▁x x b os ▁ಬೆಂಗಳೂರು ▁ಅಂತರ ▁ರಾಷ್ಟ್ರೀಯ ▁ಚಲನಚಿತ್ರೋತ್ಸವ ದಲ್ಲಿ ▁ಏಷ್ಯನ್ ▁ಸಿನಿಮಾ ಗಳ ▁ಸ್ಪರ್ಧೆಯಲ್ಲಿ ರುವ ▁ಸಿನಿಮಾ ಗಳ ▁ವಿವರ,▁x x b os ▁ಜಿಯೋ ▁ಭರ್ಜರಿ ▁ಗಿ ಫ್ಟ್ ▁: ▁ಇಂದಿನ ಿಂದಲೇ ▁5 ▁ವರ್ಷಗಳ ▁ಕಾಲ ▁ಉಚಿತವಾಗಿ ▁ಕ್ರಿಕೆಟ್ ▁ವೀಕ್ಷಿಸ ಿ\n",
       "y: CategoryList\n",
       "entertainment,entertainment,sports,entertainment,tech\n",
       "Path: /home/gaurav/PycharmProjects/nlp-for-kannada/classification;\n",
       "\n",
       "Test: None, model=SequentialRNN(\n",
       "  (0): MultiBatchEncoder(\n",
       "    (module): AWD_LSTM(\n",
       "      (encoder): Embedding(25000, 400, padding_idx=1)\n",
       "      (encoder_dp): EmbeddingDropout(\n",
       "        (emb): Embedding(25000, 400, padding_idx=1)\n",
       "      )\n",
       "      (rnns): ModuleList(\n",
       "        (0): WeightDropout(\n",
       "          (module): LSTM(400, 1150, batch_first=True)\n",
       "        )\n",
       "        (1): WeightDropout(\n",
       "          (module): LSTM(1150, 1150, batch_first=True)\n",
       "        )\n",
       "        (2): WeightDropout(\n",
       "          (module): LSTM(1150, 400, batch_first=True)\n",
       "        )\n",
       "      )\n",
       "      (input_dp): RNNDropout()\n",
       "      (hidden_dps): ModuleList(\n",
       "        (0): RNNDropout()\n",
       "        (1): RNNDropout()\n",
       "        (2): RNNDropout()\n",
       "      )\n",
       "    )\n",
       "  )\n",
       "  (1): PoolingLinearClassifier(\n",
       "    (layers): Sequential(\n",
       "      (0): BatchNorm1d(1200, eps=1e-05, momentum=0.1, affine=True, track_running_stats=True)\n",
       "      (1): Dropout(p=0.05)\n",
       "      (2): Linear(in_features=1200, out_features=50, bias=True)\n",
       "      (3): ReLU(inplace)\n",
       "      (4): BatchNorm1d(50, eps=1e-05, momentum=0.1, affine=True, track_running_stats=True)\n",
       "      (5): Dropout(p=0.1)\n",
       "      (6): Linear(in_features=50, out_features=3, bias=True)\n",
       "    )\n",
       "  )\n",
       "), opt_func=functools.partial(<class 'torch.optim.adam.Adam'>, betas=(0.9, 0.99)), loss_func=FlattenedLoss of CrossEntropyLoss(), metrics=[<function accuracy at 0x7f12e38874d0>], true_wd=True, bn_wd=True, wd=0.01, train_bn=True, path=PosixPath('/home/gaurav/PycharmProjects/nlp-for-kannada/classification'), model_dir='models', callback_fns=[functools.partial(<class 'fastai.basic_train.Recorder'>, add_time=True, silent=False)], callbacks=[RNNTrainer\n",
       "learn: ...\n",
       "alpha: 2.0\n",
       "beta: 1.0], layer_groups=[Sequential(\n",
       "  (0): Embedding(25000, 400, padding_idx=1)\n",
       "  (1): EmbeddingDropout(\n",
       "    (emb): Embedding(25000, 400, padding_idx=1)\n",
       "  )\n",
       "), Sequential(\n",
       "  (0): WeightDropout(\n",
       "    (module): LSTM(400, 1150, batch_first=True)\n",
       "  )\n",
       "  (1): RNNDropout()\n",
       "), Sequential(\n",
       "  (0): WeightDropout(\n",
       "    (module): LSTM(1150, 1150, batch_first=True)\n",
       "  )\n",
       "  (1): RNNDropout()\n",
       "), Sequential(\n",
       "  (0): WeightDropout(\n",
       "    (module): LSTM(1150, 400, batch_first=True)\n",
       "  )\n",
       "  (1): RNNDropout()\n",
       "), Sequential(\n",
       "  (0): PoolingLinearClassifier(\n",
       "    (layers): Sequential(\n",
       "      (0): BatchNorm1d(1200, eps=1e-05, momentum=0.1, affine=True, track_running_stats=True)\n",
       "      (1): Dropout(p=0.05)\n",
       "      (2): Linear(in_features=1200, out_features=50, bias=True)\n",
       "      (3): ReLU(inplace)\n",
       "      (4): BatchNorm1d(50, eps=1e-05, momentum=0.1, affine=True, track_running_stats=True)\n",
       "      (5): Dropout(p=0.1)\n",
       "      (6): Linear(in_features=50, out_features=3, bias=True)\n",
       "    )\n",
       "  )\n",
       ")], add_time=True, silent=False, cb_fns_registered=False)"
      ]
     },
     "execution_count": 43,
     "metadata": {},
     "output_type": "execute_result"
    }
   ],
   "source": [
    "learn.load_encoder('fine_tuned_enc')"
   ]
  },
  {
   "cell_type": "code",
   "execution_count": 44,
   "metadata": {},
   "outputs": [],
   "source": [
    "learn.freeze()"
   ]
  },
  {
   "cell_type": "code",
   "execution_count": 45,
   "metadata": {},
   "outputs": [
    {
     "data": {
      "text/html": [],
      "text/plain": [
       "<IPython.core.display.HTML object>"
      ]
     },
     "metadata": {},
     "output_type": "display_data"
    },
    {
     "name": "stdout",
     "output_type": "stream",
     "text": [
      "LR Finder is complete, type {learner_name}.recorder.plot() to see the graph.\n"
     ]
    }
   ],
   "source": [
    "learn.lr_find()"
   ]
  },
  {
   "cell_type": "code",
   "execution_count": 46,
   "metadata": {},
   "outputs": [
    {
     "data": {
      "image/png": "[encoded data removed]",
      "text/plain": [
       "<Figure size 432x288 with 1 Axes>"
      ]
     },
     "metadata": {
      "needs_background": "light"
     },
     "output_type": "display_data"
    }
   ],
   "source": [
    "learn.recorder.plot()"
   ]
  },
  {
   "cell_type": "code",
   "execution_count": 47,
   "metadata": {},
   "outputs": [
    {
     "data": {
      "text/plain": [
       "CrossEntropyLoss()"
      ]
     },
     "execution_count": 47,
     "metadata": {},
     "output_type": "execute_result"
    }
   ],
   "source": [
    "learn.loss_func.func"
   ]
  },
  {
   "cell_type": "code",
   "execution_count": 48,
   "metadata": {},
   "outputs": [],
   "source": [
    "kappa = KappaScore()"
   ]
  },
  {
   "cell_type": "code",
   "execution_count": 49,
   "metadata": {},
   "outputs": [],
   "source": [
    "learn.metrics = [kappa, accuracy]"
   ]
  },
  {
   "cell_type": "code",
   "execution_count": 50,
   "metadata": {},
   "outputs": [
    {
     "data": {
      "text/html": [
       "<table border=\"1\" class=\"dataframe\">\n",
       "  <thead>\n",
       "    <tr style=\"text-align: left;\">\n",
       "      <th>epoch</th>\n",
       "      <th>train_loss</th>\n",
       "      <th>valid_loss</th>\n",
       "      <th>kappa_score</th>\n",
       "      <th>accuracy</th>\n",
       "      <th>time</th>\n",
       "    </tr>\n",
       "  </thead>\n",
       "  <tbody>\n",
       "    <tr>\n",
       "      <td>0</td>\n",
       "      <td>0.398411</td>\n",
       "      <td>0.250452</td>\n",
       "      <td>0.856710</td>\n",
       "      <td>0.915700</td>\n",
       "      <td>00:06</td>\n",
       "    </tr>\n",
       "  </tbody>\n",
       "</table>"
      ],
      "text/plain": [
       "<IPython.core.display.HTML object>"
      ]
     },
     "metadata": {},
     "output_type": "display_data"
    }
   ],
   "source": [
    "learn.fit_one_cycle(1, 1e-2)"
   ]
  },
  {
   "cell_type": "code",
   "execution_count": 51,
   "metadata": {},
   "outputs": [
    {
     "data": {
      "text/html": [
       "<table border=\"1\" class=\"dataframe\">\n",
       "  <thead>\n",
       "    <tr style=\"text-align: left;\">\n",
       "      <th>epoch</th>\n",
       "      <th>train_loss</th>\n",
       "      <th>valid_loss</th>\n",
       "      <th>kappa_score</th>\n",
       "      <th>accuracy</th>\n",
       "      <th>time</th>\n",
       "    </tr>\n",
       "  </thead>\n",
       "  <tbody>\n",
       "    <tr>\n",
       "      <td>0</td>\n",
       "      <td>0.324954</td>\n",
       "      <td>0.168237</td>\n",
       "      <td>0.899499</td>\n",
       "      <td>0.941222</td>\n",
       "      <td>00:07</td>\n",
       "    </tr>\n",
       "  </tbody>\n",
       "</table>"
      ],
      "text/plain": [
       "<IPython.core.display.HTML object>"
      ]
     },
     "metadata": {},
     "output_type": "display_data"
    }
   ],
   "source": [
    "learn.freeze_to(-2)\n",
    "learn.fit_one_cycle(1, 1e-2)"
   ]
  },
  {
   "cell_type": "code",
   "execution_count": 52,
   "metadata": {},
   "outputs": [],
   "source": [
    "learn.save('second-full')"
   ]
  },
  {
   "cell_type": "code",
   "execution_count": 53,
   "metadata": {},
   "outputs": [
    {
     "data": {
      "text/html": [
       "<table border=\"1\" class=\"dataframe\">\n",
       "  <thead>\n",
       "    <tr style=\"text-align: left;\">\n",
       "      <th>epoch</th>\n",
       "      <th>train_loss</th>\n",
       "      <th>valid_loss</th>\n",
       "      <th>kappa_score</th>\n",
       "      <th>accuracy</th>\n",
       "      <th>time</th>\n",
       "    </tr>\n",
       "  </thead>\n",
       "  <tbody>\n",
       "    <tr>\n",
       "      <td>0</td>\n",
       "      <td>0.221969</td>\n",
       "      <td>0.151396</td>\n",
       "      <td>0.913182</td>\n",
       "      <td>0.948956</td>\n",
       "      <td>00:11</td>\n",
       "    </tr>\n",
       "    <tr>\n",
       "      <td>1</td>\n",
       "      <td>0.133729</td>\n",
       "      <td>0.140351</td>\n",
       "      <td>0.919609</td>\n",
       "      <td>0.952823</td>\n",
       "      <td>00:12</td>\n",
       "    </tr>\n",
       "    <tr>\n",
       "      <td>2</td>\n",
       "      <td>0.102456</td>\n",
       "      <td>0.161830</td>\n",
       "      <td>0.916922</td>\n",
       "      <td>0.951276</td>\n",
       "      <td>00:11</td>\n",
       "    </tr>\n",
       "    <tr>\n",
       "      <td>3</td>\n",
       "      <td>0.078728</td>\n",
       "      <td>0.158081</td>\n",
       "      <td>0.924920</td>\n",
       "      <td>0.955916</td>\n",
       "      <td>00:12</td>\n",
       "    </tr>\n",
       "    <tr>\n",
       "      <td>4</td>\n",
       "      <td>0.042520</td>\n",
       "      <td>0.160484</td>\n",
       "      <td>0.930436</td>\n",
       "      <td>0.959010</td>\n",
       "      <td>00:12</td>\n",
       "    </tr>\n",
       "  </tbody>\n",
       "</table>"
      ],
      "text/plain": [
       "<IPython.core.display.HTML object>"
      ]
     },
     "metadata": {},
     "output_type": "display_data"
    },
    {
     "name": "stdout",
     "output_type": "stream",
     "text": [
      "Better model found at epoch 0 with accuracy value: 0.9489558935165405.\n",
      "Better model found at epoch 1 with accuracy value: 0.9528228640556335.\n",
      "Better model found at epoch 3 with accuracy value: 0.9559164643287659.\n",
      "Better model found at epoch 4 with accuracy value: 0.9590100646018982.\n"
     ]
    }
   ],
   "source": [
    "learn.unfreeze()\n",
    "learn.fit_one_cycle(5, 1e-3, callbacks=[callbacks.SaveModelCallback(learn, every='improvement', monitor='accuracy', name='final')])"
   ]
  },
  {
   "cell_type": "code",
   "execution_count": 54,
   "metadata": {},
   "outputs": [
    {
     "data": {
      "text/plain": [
       "(Category entertainment,\n",
       " tensor(0),\n",
       " tensor([9.9763e-01, 1.9658e-03, 3.9923e-04]))"
      ]
     },
     "execution_count": 54,
     "metadata": {},
     "output_type": "execute_result"
    }
   ],
   "source": [
    "learn.predict('ಬಾಲಿವುಡ್ ಸ್ಟಾರ್ ನಟನ ಸಿನಿಮಾದಲ್ಲಿ ಸೌತ್ ಸುಂದರಿ ಕೀರ್ತಿ ಸುರೇಶ್')"
   ]
  },
  {
   "cell_type": "code",
   "execution_count": 55,
   "metadata": {},
   "outputs": [
    {
     "data": {
      "text/plain": [
       "(Category entertainment, tensor(0), tensor([0.9966, 0.0016, 0.0018]))"
      ]
     },
     "execution_count": 55,
     "metadata": {},
     "output_type": "execute_result"
    }
   ],
   "source": [
    "learn.predict(\"ಚಿತ್ರರಂಗದಿಂದ ಯಾರ್ ಯಾರು ಬರ್ತಾರಂತಾ ಮಾರ್ಚ್ 18ಕ್ಕೆ ನೋಡಿ\")"
   ]
  },
  {
   "cell_type": "code",
   "execution_count": 56,
   "metadata": {},
   "outputs": [
    {
     "data": {
      "text/plain": [
       "(Category entertainment, tensor(0), tensor([0.9914, 0.0030, 0.0056]))"
      ]
     },
     "execution_count": 56,
     "metadata": {},
     "output_type": "execute_result"
    }
   ],
   "source": [
    "learn.predict(\"ಮತದಾನದ ಅರಿವು ಮೂಡಿಸುವಂತೆ ಸಿನಿತಾರೆಯರಿಗೆ ಪ್ರಧಾನಿ ಮೋದಿ ಕರೆ\")"
   ]
  },
  {
   "cell_type": "code",
   "execution_count": 57,
   "metadata": {},
   "outputs": [
    {
     "data": {
      "text/plain": [
       "(Category entertainment, tensor(0), tensor([0.9225, 0.0048, 0.0726]))"
      ]
     },
     "execution_count": 57,
     "metadata": {},
     "output_type": "execute_result"
    }
   ],
   "source": [
    "learn.predict(\"ಸಿದ್ಧರಾಗಿರಿ ಬರ್ತಾ ಇದೆ 'ಬೆಲ್ ಬಾಟಂ ಪಾರ್ಟ್ -2'\")"
   ]
  },
  {
   "cell_type": "code",
   "execution_count": null,
   "metadata": {},
   "outputs": [],
   "source": []
  }
 ],
 "metadata": {
  "kernelspec": {
   "display_name": "Python 3",
   "language": "python",
   "name": "python3"
  },
  "language_info": {
   "codemirror_mode": {
    "name": "ipython",
    "version": 3
   },
   "file_extension": ".py",
   "mimetype": "text/x-python",
   "name": "python",
   "nbconvert_exporter": "python",
   "pygments_lexer": "ipython3",
   "version": "3.7.4"
  }
 },
 "nbformat": 4,
 "nbformat_minor": 2
}

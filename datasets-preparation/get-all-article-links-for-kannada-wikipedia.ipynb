{
 "cells": [
  {
   "cell_type": "code",
   "execution_count": 6,
   "metadata": {},
   "outputs": [],
   "source": [
    "from urllib.request import urlopen\n",
    "import pickle"
   ]
  },
  {
   "cell_type": "code",
   "execution_count": 7,
   "metadata": {},
   "outputs": [],
   "source": [
    "html_doc = ''\n",
    "with urlopen('https://kn.wikipedia.org/wiki/%E0%B2%AE%E0%B3%81%E0%B2%96%E0%B3%8D%E0%B2%AF_%E0%B2%AA%E0%B3%81%E0%B2%9F') as response:\n",
    "    for line in response:\n",
    "        line = line.decode('utf-8')\n",
    "        html_doc = html_doc + line.replace('\\n','')"
   ]
  },
  {
   "cell_type": "code",
   "execution_count": 8,
   "metadata": {},
   "outputs": [],
   "source": [
    "from bs4 import BeautifulSoup\n",
    "soup = BeautifulSoup(html_doc, 'html.parser')"
   ]
  },
  {
   "cell_type": "code",
   "execution_count": 9,
   "metadata": {},
   "outputs": [
    {
     "data": {
      "text/plain": [
       "'ಮುಖ್ಯ ಪುಟ'"
      ]
     },
     "execution_count": 9,
     "metadata": {},
     "output_type": "execute_result"
    }
   ],
   "source": [
    "soup.h1.string"
   ]
  },
  {
   "cell_type": "code",
   "execution_count": 10,
   "metadata": {},
   "outputs": [],
   "source": [
    "tab = soup.find(\"table\",{\"style\":\"border:2px solid #e1eaee; border-collapse:separate;font-size:120%\"})"
   ]
  },
  {
   "cell_type": "code",
   "execution_count": 11,
   "metadata": {},
   "outputs": [],
   "source": [
    "anchors = tab.find_all('a')"
   ]
  },
  {
   "cell_type": "code",
   "execution_count": 12,
   "metadata": {},
   "outputs": [],
   "source": [
    "home_url = 'https://kn.wikipedia.org' \n",
    "links = [home_url + anchor['href'] for anchor in anchors]"
   ]
  },
  {
   "cell_type": "code",
   "execution_count": 13,
   "metadata": {},
   "outputs": [
    {
     "data": {
      "text/plain": [
       "51"
      ]
     },
     "execution_count": 13,
     "metadata": {},
     "output_type": "execute_result"
    }
   ],
   "source": [
    "len(links)"
   ]
  },
  {
   "cell_type": "code",
   "execution_count": 14,
   "metadata": {},
   "outputs": [
    {
     "data": {
      "text/plain": [
       "'https://kn.wikipedia.org/wiki/%E0%B2%B5%E0%B2%BF%E0%B2%B6%E0%B3%87%E0%B2%B7:AllPages/%E0%B3%A6'"
      ]
     },
     "execution_count": 14,
     "metadata": {},
     "output_type": "execute_result"
    }
   ],
   "source": [
    "links[0]"
   ]
  },
  {
   "cell_type": "code",
   "execution_count": 15,
   "metadata": {},
   "outputs": [],
   "source": [
    "all_links = []"
   ]
  },
  {
   "cell_type": "code",
   "execution_count": 16,
   "metadata": {},
   "outputs": [
    {
     "name": "stdout",
     "output_type": "stream",
     "text": [
      "345\n",
      "513\n",
      "513\n",
      "858\n",
      "1203\n",
      "1548\n",
      "1893\n",
      "2238\n",
      "2583\n",
      "2928\n",
      "3273\n",
      "3618\n",
      "3963\n",
      "4308\n",
      "4653\n",
      "4998\n",
      "5343\n",
      "5688\n",
      "6033\n",
      "6378\n",
      "6723\n",
      "7068\n",
      "7413\n",
      "7758\n",
      "8103\n",
      "8448\n",
      "8793\n",
      "9138\n",
      "9483\n",
      "9828\n",
      "10173\n",
      "10518\n",
      "10863\n",
      "11208\n",
      "11553\n",
      "11898\n",
      "12243\n",
      "12588\n",
      "12933\n",
      "13278\n",
      "13623\n",
      "13968\n",
      "14313\n",
      "14658\n",
      "15003\n",
      "15348\n",
      "15693\n",
      "16038\n",
      "16383\n",
      "16728\n",
      "17073\n",
      "17418\n",
      "17763\n",
      "18108\n",
      "18453\n",
      "18798\n",
      "19143\n",
      "19488\n",
      "19833\n",
      "20178\n",
      "20523\n",
      "20868\n",
      "21213\n",
      "21558\n",
      "21903\n",
      "22248\n",
      "22593\n",
      "22938\n",
      "23283\n",
      "23628\n",
      "23973\n",
      "24318\n",
      "24663\n",
      "25008\n",
      "25353\n",
      "25698\n",
      "26043\n",
      "26388\n",
      "26733\n",
      "27078\n",
      "27423\n",
      "27768\n",
      "28113\n",
      "28458\n",
      "28803\n",
      "29148\n",
      "29493\n",
      "29838\n",
      "30183\n",
      "30528\n",
      "30873\n",
      "31218\n",
      "31563\n",
      "31908\n",
      "32253\n",
      "32598\n",
      "32943\n",
      "33000\n",
      "33000\n",
      "33000\n",
      "33000\n",
      "33000\n",
      "33000\n",
      "33000\n",
      "33000\n",
      "33000\n",
      "33000\n",
      "33000\n",
      "33000\n",
      "33000\n",
      "33000\n",
      "33000\n",
      "33000\n",
      "33000\n",
      "33000\n",
      "33000\n",
      "33000\n",
      "33000\n",
      "33000\n",
      "33000\n",
      "33000\n",
      "33000\n",
      "33000\n",
      "33000\n",
      "33000\n",
      "33000\n",
      "33000\n",
      "33000\n",
      "33000\n",
      "33000\n",
      "33000\n",
      "33000\n",
      "33000\n",
      "33000\n",
      "33000\n",
      "33000\n",
      "33000\n",
      "33000\n",
      "33000\n",
      "33000\n",
      "33000\n",
      "33000\n",
      "33000\n",
      "33000\n",
      "33000\n",
      "33000\n",
      "33000\n"
     ]
    }
   ],
   "source": [
    "# Main code\n",
    "prev_len = 0\n",
    "for link in links:    \n",
    "    while link:\n",
    "        html_doc = ''\n",
    "        with urlopen(link) as response:\n",
    "            for line in response:\n",
    "                line = line.decode('utf-8')\n",
    "                html_doc = html_doc + line.replace('\\n','')\n",
    "            soup = BeautifulSoup(html_doc, 'html.parser')\n",
    "            div = soup.find('div',{'class':'mw-allpages-body'})\n",
    "            if div:\n",
    "                anchors = div.find_all('a');\n",
    "                all_links = all_links + [home_url + anchor['href'] for anchor in anchors]\n",
    "                print(len(set(all_links)))\n",
    "            if prev_len == len(set(all_links)):\n",
    "                break\n",
    "            nav_div = soup.find('div',{'class':'mw-allpages-nav'})\n",
    "            if nav_div and len(nav_div.find_all('a')) == 2:\n",
    "                link = home_url + nav_div.find_all('a')[1]['href']\n",
    "            prev_len = len(set(all_links))"
   ]
  },
  {
   "cell_type": "code",
   "execution_count": 17,
   "metadata": {},
   "outputs": [
    {
     "data": {
      "text/plain": [
       "33000"
      ]
     },
     "execution_count": 17,
     "metadata": {},
     "output_type": "execute_result"
    }
   ],
   "source": [
    "len(set(all_links))"
   ]
  },
  {
   "cell_type": "code",
   "execution_count": 18,
   "metadata": {},
   "outputs": [
    {
     "data": {
      "text/plain": [
       "33000"
      ]
     },
     "execution_count": 18,
     "metadata": {},
     "output_type": "execute_result"
    }
   ],
   "source": [
    "all_links = list(set(all_links)); len(all_links)"
   ]
  },
  {
   "cell_type": "code",
   "execution_count": 19,
   "metadata": {},
   "outputs": [],
   "source": [
    "with open('all_kannada_wikipedia_links.pkl', 'wb') as f:\n",
    "    pickle.dump(all_links, f)"
   ]
  },
  {
   "cell_type": "code",
   "execution_count": 20,
   "metadata": {},
   "outputs": [
    {
     "data": {
      "text/plain": [
       "'https://kn.wikipedia.org/wiki/%E0%B2%85%E0%B2%B2%E0%B3%8D%E0%B2%B2%E0%B2%BE%E0%B2%B5%E0%B3%81%E0%B2%A6%E0%B3%8D%E0%B2%A6%E0%B3%80%E0%B2%A8%E0%B3%8D_%E0%B2%96%E0%B2%BE%E0%B2%A8%E0%B3%8D'"
      ]
     },
     "execution_count": 20,
     "metadata": {},
     "output_type": "execute_result"
    }
   ],
   "source": [
    "all_links[160]"
   ]
  },
  {
   "cell_type": "code",
   "execution_count": null,
   "metadata": {},
   "outputs": [],
   "source": []
  }
 ],
 "metadata": {
  "kernelspec": {
   "display_name": "Python 3",
   "language": "python",
   "name": "python3"
  },
  "language_info": {
   "codemirror_mode": {
    "name": "ipython",
    "version": 3
   },
   "file_extension": ".py",
   "mimetype": "text/x-python",
   "name": "python",
   "nbconvert_exporter": "python",
   "pygments_lexer": "ipython3",
   "version": "3.6.7"
  }
 },
 "nbformat": 4,
 "nbformat_minor": 2
}
